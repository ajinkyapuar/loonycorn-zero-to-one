{
 "cells": [
  {
   "cell_type": "code",
   "execution_count": 35,
   "metadata": {
    "collapsed": true
   },
   "outputs": [],
   "source": [
    "import urllib2\n",
    "from bs4 import BeautifulSoup"
   ]
  },
  {
   "cell_type": "code",
   "execution_count": 54,
   "metadata": {
    "collapsed": false
   },
   "outputs": [],
   "source": [
    "def scrapeYoutube(url):\n",
    "    page = urllib2.urlopen(url).read().decode('utf8')\n",
    "    # print page\n",
    "    \n",
    "    soup = BeautifulSoup(page, 'lxml')\n",
    "    # print soup\n",
    "    \n",
    "    views = soup.find_all('div', {\"class\": \"watch-view-count\"})[0].text.split()[0].decode('utf8')\n",
    "    # print views\n",
    "    \n",
    "    like_btn = soup.find_all('span', {\"class\": \"like-button-renderer\"})\n",
    "    \n",
    "    like_btn_soup = BeautifulSoup(str(like_btn), 'lxml')\n",
    "    \n",
    "    # print like_btn_soup.find_all('span', {\"class\": \"yt-uix-button-content\"})\n",
    "    \n",
    "    likes = like_btn_soup.find_all('span', {\"class\": \"yt-uix-button-content\"})[0].text\n",
    "    # print likes, type(likes)\n",
    "    \n",
    "    dislikes = like_btn_soup.find_all('span', {\"class\": \"yt-uix-button-content\"})[3].text\n",
    "    # print dislikes\n",
    "    \n",
    "    # print views, likes, dislikes\n",
    "    return views, likes, dislikes"
   ]
  },
  {
   "cell_type": "code",
   "execution_count": 58,
   "metadata": {},
   "outputs": [
    {
     "name": "stdout",
     "output_type": "stream",
     "text": [
      "3,289,556\n59,077\n1,618\n"
     ]
    }
   ],
   "source": [
    "url = \"https://www.youtube.com/watch?v=WBUYy6NnWTo\"\n",
    "\n",
    "v,l,d = scrapeYoutube(url)\n",
    "\n",
    "print v\n",
    "print l\n",
    "print d"
   ]
  },
  {
   "cell_type": "code",
   "execution_count": null,
   "metadata": {},
   "outputs": [],
   "source": [
    ""
   ]
  },
  {
   "cell_type": "code",
   "execution_count": 23,
   "metadata": {},
   "outputs": [
    {
     "name": "stdout",
     "output_type": "stream",
     "text": [
      "59,077 <type 'unicode'>\n"
     ]
    }
   ],
   "source": [
    ""
   ]
  },
  {
   "cell_type": "code",
   "execution_count": null,
   "metadata": {},
   "outputs": [],
   "source": [
    ""
   ]
  }
 ],
 "metadata": {
  "kernelspec": {
   "display_name": "Python 2",
   "language": "python",
   "name": "python2"
  },
  "language_info": {
   "codemirror_mode": {
    "name": "ipython",
    "version": 2.0
   },
   "file_extension": ".py",
   "mimetype": "text/x-python",
   "name": "python",
   "nbconvert_exporter": "python",
   "pygments_lexer": "ipython2",
   "version": "2.7.6"
  }
 },
 "nbformat": 4,
 "nbformat_minor": 0
}