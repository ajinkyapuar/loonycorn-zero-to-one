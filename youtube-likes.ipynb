{
 "cells": [
  {
   "cell_type": "code",
   "execution_count": 1,
   "metadata": {
    "collapsed": true
   },
   "outputs": [],
   "source": [
    "import urllib2\n",
    "from bs4 import BeautifulSoup"
   ]
  },
  {
   "cell_type": "code",
   "execution_count": 2,
   "metadata": {
    "collapsed": false
   },
   "outputs": [],
   "source": [
    "url = \"https://www.youtube.com/watch?v=WBUYy6NnWTo\"\n",
    "\n",
    "page = urllib2.urlopen(url).read().decode('utf8')\n",
    "\n",
    "# print page\n",
    "\n",
    "soup = BeautifulSoup(page, 'lxml')\n",
    "\n",
    "# print soup"
   ]
  },
  {
   "cell_type": "code",
   "execution_count": 9,
   "metadata": {},
   "outputs": [
    {
     "name": "stdout",
     "output_type": "stream",
     "text": [
      "59,077\n1,618\n"
     ]
    }
   ],
   "source": [
    "like_btn = soup.find_all('span', {\"class\": \"like-button-renderer\"})\n",
    "\n",
    "like_btn_soup = BeautifulSoup(str(like_btn), 'lxml')\n",
    "\n",
    "# print like_btn_soup.find_all('span', {\"class\": \"yt-uix-button-content\"})\n",
    "\n",
    "likes = like_btn_soup.find_all('span', {\"class\": \"yt-uix-button-content\"})[0].text\n",
    "print likes\n",
    "\n",
    "dislikes = like_btn_soup.find_all('span', {\"class\": \"yt-uix-button-content\"})[3].text\n",
    "print dislikes"
   ]
  }
 ],
 "metadata": {
  "kernelspec": {
   "display_name": "Python 2",
   "language": "python",
   "name": "python2"
  },
  "language_info": {
   "codemirror_mode": {
    "name": "ipython",
    "version": 2.0
   },
   "file_extension": ".py",
   "mimetype": "text/x-python",
   "name": "python",
   "nbconvert_exporter": "python",
   "pygments_lexer": "ipython2",
   "version": "2.7.6"
  }
 },
 "nbformat": 4,
 "nbformat_minor": 0
}