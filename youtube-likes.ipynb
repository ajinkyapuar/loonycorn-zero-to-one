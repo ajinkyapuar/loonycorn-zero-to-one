{
 "cells": [
  {
   "cell_type": "code",
   "execution_count": 1,
   "metadata": {
    "collapsed": true
   },
   "outputs": [],
   "source": [
    "import urllib2\n",
    "from bs4 import BeautifulSoup"
   ]
  },
  {
   "cell_type": "code",
   "execution_count": 2,
   "metadata": {
    "collapsed": false
   },
   "outputs": [
    {
     "name": "stderr",
     "output_type": "stream",
     "text": [
      "/Users/ajinkyapuar/anaconda/envs/tensorflow/lib/python2.7/site-packages/bs4/__init__.py:181: UserWarning: No parser was explicitly specified, so I'm using the best available HTML parser for this system (\"lxml\"). This usually isn't a problem, but if you run this code on another system, or in a different virtual environment, it may use a different parser and behave differently.\n\nThe code that caused this warning is on line 174 of the file /Users/ajinkyapuar/anaconda/envs/tensorflow/lib/python2.7/runpy.py. To get rid of this warning, change code that looks like this:\n\n BeautifulSoup(YOUR_MARKUP})\n\nto this:\n\n BeautifulSoup(YOUR_MARKUP, \"lxml\")\n\n  markup_type=markup_type))\n"
     ]
    }
   ],
   "source": [
    "url = \"https://www.youtube.com/watch?v=WBUYy6NnWTo\"\n",
    "\n",
    "page = urllib2.urlopen(url).read().decode('utf8')\n",
    "\n",
    "# print page\n",
    "\n",
    "soup = BeautifulSoup(page)\n",
    "\n",
    "# print soup"
   ]
  },
  {
   "cell_type": "code",
   "execution_count": 3,
   "metadata": {},
   "outputs": [
    {
     "name": "stdout",
     "output_type": "stream",
     "text": [
      "[<span class=\"yt-uix-button-content\">59,021</span>, <span class=\"yt-uix-button-content\">Sign in</span>, <span class=\"yt-uix-button-content\">59,022</span>, <span class=\"yt-uix-button-content\">1,617</span>, <span class=\"yt-uix-button-content\">Sign in</span>, <span class=\"yt-uix-button-content\">1,618</span>]\n"
     ]
    }
   ],
   "source": [
    "like_btn = soup.find_all('span', {\"class\": \"like-button-renderer\"})\n",
    "\n",
    "like_btn_soup = BeautifulSoup(str(like_btn))\n",
    "\n",
    "print like_btn_soup.find_all('span', {\"class\": \"yt-uix-button-content\"})"
   ]
  }
 ],
 "metadata": {
  "kernelspec": {
   "display_name": "Python 2",
   "language": "python",
   "name": "python2"
  },
  "language_info": {
   "codemirror_mode": {
    "name": "ipython",
    "version": 2.0
   },
   "file_extension": ".py",
   "mimetype": "text/x-python",
   "name": "python",
   "nbconvert_exporter": "python",
   "pygments_lexer": "ipython2",
   "version": "2.7.6"
  }
 },
 "nbformat": 4,
 "nbformat_minor": 0
}