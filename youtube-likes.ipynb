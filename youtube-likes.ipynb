{
 "cells": [
  {
   "cell_type": "code",
   "execution_count": 1,
   "metadata": {
    "collapsed": true
   },
   "outputs": [],
   "source": [
    "import urllib2\n",
    "from bs4 import BeautifulSoup\n",
    "import csv\n",
    "import time"
   ]
  },
  {
   "cell_type": "code",
   "execution_count": 2,
   "metadata": {
    "collapsed": false
   },
   "outputs": [],
   "source": [
    "def scrapeYoutube(url):\n",
    "    # try:\n",
    "    page = urllib2.urlopen(url).read().decode('utf8')\n",
    "    # print page\n",
    "\n",
    "    soup = BeautifulSoup(page, 'lxml')\n",
    "    # print soup\n",
    "\n",
    "    views = soup.find_all('div', {\"class\": \"watch-view-count\"})[0].text.split()[0]\n",
    "    # print views\n",
    "\n",
    "    like_btn = soup.find_all('span', {\"class\": \"like-button-renderer\"})\n",
    "\n",
    "    like_btn_soup = BeautifulSoup(str(like_btn), 'lxml')\n",
    "\n",
    "    # print like_btn_soup.find_all('span', {\"class\": \"yt-uix-button-content\"})\n",
    "\n",
    "    likes = like_btn_soup.find_all('span', {\"class\": \"yt-uix-button-content\"})[0].text\n",
    "    # print likes, type(likes)\n",
    "\n",
    "    dislikes = like_btn_soup.find_all('span', {\"class\": \"yt-uix-button-content\"})[3].text\n",
    "    # print dislikes\n",
    "\n",
    "    # print views, likes, dislikes\n",
    "    return views, likes, dislikes\n",
    "    # except urllib2.HTTPError, e:\n",
    "    #     print \"*** Error! ***\"\n",
    "    #     print e.fp.read()"
   ]
  },
  {
   "cell_type": "code",
   "execution_count": 3,
   "metadata": {},
   "outputs": [
    {
     "name": "stdout",
     "output_type": "stream",
     "text": [
      "3,290,887\n59,105\n1,618\n"
     ]
    }
   ],
   "source": [
    "# Tesing one URL\n",
    "\n",
    "url = \"https://www.youtube.com/watch?v=WBUYy6NnWTo\"\n",
    "\n",
    "v,l,d = scrapeYoutube(url)\n",
    "\n",
    "print v\n",
    "print l\n",
    "print d"
   ]
  },
  {
   "cell_type": "code",
   "execution_count": 29,
   "metadata": {},
   "outputs": [
    {
     "name": "stdout",
     "output_type": "stream",
     "text": [
      "3290892,59108,1618\n"
     ]
    },
    {
     "name": "stdout",
     "output_type": "stream",
     "text": [
      "1739123,89921,2615\n"
     ]
    },
    {
     "name": "stdout",
     "output_type": "stream",
     "text": [
      "2195382,32121,892\n"
     ]
    },
    {
     "name": "stdout",
     "output_type": "stream",
     "text": [
      "1347037,35454,398\n"
     ]
    },
    {
     "name": "stdout",
     "output_type": "stream",
     "text": [
      "DONE\n"
     ]
    }
   ],
   "source": [
    "# TODO: Fix issue with the https error and read urls from csv file\n",
    "\n",
    "inputFile = \"Data/input.csv\"\n",
    "outputFile = \"Data/output.csv\"\n",
    "\n",
    "URLS = []\n",
    "\n",
    "with open(inputFile, 'rb') as inFile:\n",
    "    csvReader = csv.reader(inFile)\n",
    "    with open(outputFile, 'wb') as outFile:\n",
    "        for row in csvReader:\n",
    "            # print row[0]\n",
    "            v, l, d = scrapeYoutube(row[0])\n",
    "            v = v.replace(\",\", \"\")\n",
    "            l = l.replace(\",\", \"\")\n",
    "            d = d.replace(\",\", \"\")\n",
    "            line = v + ',' + l + ',' + d\n",
    "            print line\n",
    "            outFile.write(line)\n",
    "            outFile.write('\\n')\n",
    "            time.sleep(1)\n",
    "        \n",
    "    print \"DONE\"\n",
    "    outFile.close()\n",
    "inFile.close()"
   ]
  },
  {
   "cell_type": "code",
   "execution_count": 28,
   "metadata": {},
   "outputs": [],
   "source": [
    ""
   ]
  },
  {
   "cell_type": "code",
   "execution_count": 12,
   "metadata": {},
   "outputs": [
    {
     "name": "stdout",
     "output_type": "stream",
     "text": [
      "OPEN\n"
     ]
    }
   ],
   "source": [
    ""
   ]
  }
 ],
 "metadata": {
  "kernelspec": {
   "display_name": "Python 2",
   "language": "python",
   "name": "python2"
  },
  "language_info": {
   "codemirror_mode": {
    "name": "ipython",
    "version": 2.0
   },
   "file_extension": ".py",
   "mimetype": "text/x-python",
   "name": "python",
   "nbconvert_exporter": "python",
   "pygments_lexer": "ipython2",
   "version": "2.7.6"
  }
 },
 "nbformat": 4,
 "nbformat_minor": 0
}