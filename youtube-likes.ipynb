{
 "cells": [
  {
   "cell_type": "code",
   "execution_count": 92,
   "metadata": {
    "collapsed": true
   },
   "outputs": [],
   "source": [
    "import urllib2\n",
    "from bs4 import BeautifulSoup\n",
    "import csv\n",
    "import time"
   ]
  },
  {
   "cell_type": "code",
   "execution_count": 93,
   "metadata": {
    "collapsed": false
   },
   "outputs": [],
   "source": [
    "def scrapeYoutube(url):\n",
    "    # try:\n",
    "    page = urllib2.urlopen(url).read().decode('utf8')\n",
    "    # print page\n",
    "\n",
    "    soup = BeautifulSoup(page, 'lxml')\n",
    "    # print soup\n",
    "\n",
    "    views = soup.find_all('div', {\"class\": \"watch-view-count\"})[0].text.split()[0]\n",
    "    # print views\n",
    "\n",
    "    like_btn = soup.find_all('span', {\"class\": \"like-button-renderer\"})\n",
    "\n",
    "    like_btn_soup = BeautifulSoup(str(like_btn), 'lxml')\n",
    "\n",
    "    # print like_btn_soup.find_all('span', {\"class\": \"yt-uix-button-content\"})\n",
    "\n",
    "    likes = like_btn_soup.find_all('span', {\"class\": \"yt-uix-button-content\"})[0].text\n",
    "    # print likes, type(likes)\n",
    "\n",
    "    dislikes = like_btn_soup.find_all('span', {\"class\": \"yt-uix-button-content\"})[3].text\n",
    "    # print dislikes\n",
    "\n",
    "    # print views, likes, dislikes\n",
    "    return views, likes, dislikes\n",
    "    # except urllib2.HTTPError, e:\n",
    "    #     print \"*** Error! ***\"\n",
    "    #     print e.fp.read()"
   ]
  },
  {
   "cell_type": "code",
   "execution_count": 96,
   "metadata": {},
   "outputs": [
    {
     "name": "stdout",
     "output_type": "stream",
     "text": [
      "3,289,669\n59,082\n1,618\n"
     ]
    }
   ],
   "source": [
    "# Tesing one URL\n",
    "\n",
    "url = \"https://www.youtube.com/watch?v=WBUYy6NnWTo\"\n",
    "\n",
    "v,l,d = scrapeYoutube(url)\n",
    "\n",
    "print v\n",
    "print l\n",
    "print d"
   ]
  },
  {
   "cell_type": "code",
   "execution_count": 97,
   "metadata": {},
   "outputs": [],
   "source": [
    "# TODO: Fix issue with the https error and read urls from csv file\n",
    "\n",
    "# inputFile = \"Data/input.csv\"\n",
    "# outputFile = \"Data/output.csv\"\n",
    "# \n",
    "# with open(inputFile, 'r') as f:\n",
    "#     csvReader = csv.reader(f)\n",
    "#     for row in csvReader:\n",
    "#         print row[0], type(row[0])\n",
    "#         print scrapeYoutube(row[0])\n",
    "#         time.sleep(5)"
   ]
  },
  {
   "cell_type": "code",
   "execution_count": 100,
   "metadata": {},
   "outputs": [
    {
     "name": "stdout",
     "output_type": "stream",
     "text": [
      "(u'3,289,669', u'59,082', u'1,618')\n"
     ]
    },
    {
     "name": "stdout",
     "output_type": "stream",
     "text": [
      "(u'1,737,614', u'89,854', u'2,613')\n"
     ]
    },
    {
     "name": "stdout",
     "output_type": "stream",
     "text": [
      "(u'2,194,964', u'32,112', u'892')\n"
     ]
    }
   ],
   "source": [
    "urls = [\"https://www.youtube.com/watch?v=WBUYy6NnWTo\",\n",
    "        \"https://www.youtube.com/watch?v=2h42lBcS3Y4\",\n",
    "        \"https://www.youtube.com/watch?v=BauLIecfQkc\"]\n",
    "\n",
    "for url in urls:\n",
    "    print scrapeYoutube(url)\n",
    "    time.sleep(3)"
   ]
  },
  {
   "cell_type": "code",
   "execution_count": null,
   "metadata": {},
   "outputs": [],
   "source": [
    ""
   ]
  }
 ],
 "metadata": {
  "kernelspec": {
   "display_name": "Python 2",
   "language": "python",
   "name": "python2"
  },
  "language_info": {
   "codemirror_mode": {
    "name": "ipython",
    "version": 2.0
   },
   "file_extension": ".py",
   "mimetype": "text/x-python",
   "name": "python",
   "nbconvert_exporter": "python",
   "pygments_lexer": "ipython2",
   "version": "2.7.6"
  }
 },
 "nbformat": 4,
 "nbformat_minor": 0
}