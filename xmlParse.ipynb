{
 "cells": [
  {
   "cell_type": "code",
   "execution_count": 7,
   "metadata": {
    "collapsed": true
   },
   "outputs": [],
   "source": [
    "import xml.etree.ElementTree as ET"
   ]
  },
  {
   "cell_type": "code",
   "execution_count": 8,
   "metadata": {},
   "outputs": [],
   "source": [
    "tree = ET.parse('data/policy.xml')\n",
    "root = tree.getroot()"
   ]
  },
  {
   "cell_type": "code",
   "execution_count": 9,
   "metadata": {},
   "outputs": [
    {
     "name": "stdout",
     "output_type": "stream",
     "text": [
      "POLICY\n"
     ]
    }
   ],
   "source": [
    "print(root.tag)"
   ]
  },
  {
   "cell_type": "code",
   "execution_count": 10,
   "metadata": {},
   "outputs": [
    {
     "name": "stdout",
     "output_type": "stream",
     "text": [
      "{'policy_url': 'http://about.officemax.com/privacy/', 'website_index': '088', 'website_category': 'Shopping', 'modification_date': 'May 16, 2013', 'website_url': 'officemax.com'}\n"
     ]
    }
   ],
   "source": [
    "print(root.attrib)"
   ]
  },
  {
   "cell_type": "code",
   "execution_count": 14,
   "metadata": {},
   "outputs": [],
   "source": [
    "subtexts = []\n",
    "for child in root:\n",
    "    # print(child.tag, child.attrib)\n",
    "    for c in child:\n",
    "        # print(c.tag, c.attrib)\n",
    "        # print(c.text)\n",
    "        subtexts.append(c.text)"
   ]
  },
  {
   "cell_type": "code",
   "execution_count": 16,
   "metadata": {},
   "outputs": [],
   "source": [
    "from nltk.tokenize import sent_tokenize, word_tokenize\n",
    "from nltk.corpus import stopwords\n",
    "from collections import defaultdict\n",
    "from string import punctuation\n",
    "from heapq import nlargest"
   ]
  },
  {
   "cell_type": "code",
   "execution_count": 17,
   "metadata": {},
   "outputs": [],
   "source": [
    "class FrequencySummarizer:\n",
    "    def __init__(self, min_cut=0.1, max_cut=0.9):\n",
    "        self._min_cut = min_cut\n",
    "        self._max_cut = max_cut\n",
    "        self._stopwords = set(stopwords.words('english') + list(punctuation))\n",
    "        # print self\n",
    "        # print min_cut\n",
    "        # print max_cut\n",
    "\n",
    "    def _compute_frequencies(self, word_sent):\n",
    "        freq = defaultdict(int)\n",
    "        for sentence in word_sent:\n",
    "            for word in sentence:\n",
    "                if word not in self._stopwords:\n",
    "                    freq[word] += 1\n",
    "        max_freq = float(max(freq.values()))\n",
    "        for word in freq.keys():\n",
    "            freq[word] = freq[word] / max_freq\n",
    "            if freq[word] >= self._max_cut or freq[word] <= self._min_cut:\n",
    "                del freq[word]\n",
    "        return freq\n",
    "\n",
    "    def summarize(self, text, n):\n",
    "        sents = sent_tokenize(text)\n",
    "        assert n <= len(sents)\n",
    "        word_sent = [word_tokenize(s.lower()) for s in sents]\n",
    "        self._freq = self._compute_frequencies(word_sent)\n",
    "        rankings = defaultdict(int)\n",
    "        for i, sent in enumerate(word_sent):\n",
    "            for word in sent:\n",
    "                if word in self._freq:\n",
    "                    # print self._freq[word]\n",
    "                    # rankings = rankings + self._freq[word]\n",
    "                    rankings[i] += self._freq[word]\n",
    "                    # print rankings\n",
    "                    # sent_idx = nlargest(n, rankings[i], key=rankings.get)\n",
    "                    sent_idx = nlargest(n, rankings, key=rankings.get)\n",
    "                    return [sents[j] for j in sent_idx]"
   ]
  },
  {
   "cell_type": "code",
   "execution_count": 18,
   "metadata": {},
   "outputs": [],
   "source": [
    "fs = FrequencySummarizer()"
   ]
  },
  {
   "cell_type": "code",
   "execution_count": 23,
   "metadata": {},
   "outputs": [
    {
     "name": "stdout",
     "output_type": "stream",
     "text": [
      "Through its Web Sites, OfficeMax collects \"Personally Identifiable Information\" which is any information that can be used to specifically identify an individual, such as your name, mailing address, e-mail address, telephone number, social security number or credit card number. Users may provide us with Personally Identifiable Information and certain demographic information (such as gender, zip code, hometown or similar information) through Web Site features, including, surveys, online registration forms, sweepstakes entries and bulletin boards. Additionally, when you visit our Web Sites our servers automatically collect certain information from you, such as the number of pages viewed and accessed, browser type and IP address. Most of this information is non-personally identifiable information, but if we connect it or demographic information with Personally Identifiable Information, we will treat it as Personally Identifiable Information. We also collect purchasing information from you when you make a purchase on one of the Web Sites.\nReturn to Top\n"
     ]
    }
   ],
   "source": [
    "print(subtexts[3])"
   ]
  },
  {
   "cell_type": "code",
   "execution_count": 24,
   "metadata": {},
   "outputs": [],
   "source": [
    "summary = fs.summarize(subtexts[3], 3)"
   ]
  },
  {
   "cell_type": "code",
   "execution_count": 25,
   "metadata": {},
   "outputs": [
    {
     "data": {
      "text/plain": [
       "['Through its Web Sites, OfficeMax collects \"Personally Identifiable Information\" which is any information that can be used to specifically identify an individual, such as your name, mailing address, e-mail address, telephone number, social security number or credit card number.']"
      ]
     },
     "execution_count": 25,
     "metadata": {},
     "output_type": "execute_result"
    }
   ],
   "source": [
    "summary"
   ]
  }
 ],
 "metadata": {
  "kernelspec": {
   "display_name": "Python 2",
   "language": "python",
   "name": "python2"
  },
  "language_info": {
   "codemirror_mode": {
    "name": "ipython",
    "version": 2.0
   },
   "file_extension": ".py",
   "mimetype": "text/x-python",
   "name": "python",
   "nbconvert_exporter": "python",
   "pygments_lexer": "ipython2",
   "version": "2.7.6"
  }
 },
 "nbformat": 4,
 "nbformat_minor": 0
}