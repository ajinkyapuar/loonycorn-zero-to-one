{
 "cells": [
  {
   "cell_type": "code",
   "execution_count": 36,
   "metadata": {
    "collapsed": true
   },
   "outputs": [],
   "source": [
    "import xml.etree.ElementTree as ET"
   ]
  },
  {
   "cell_type": "code",
   "execution_count": 37,
   "metadata": {},
   "outputs": [],
   "source": [
    "tree = ET.parse('data/policy.xml')\n",
    "root = tree.getroot()"
   ]
  },
  {
   "cell_type": "code",
   "execution_count": 38,
   "metadata": {},
   "outputs": [
    {
     "name": "stdout",
     "output_type": "stream",
     "text": [
      "POLICY\n"
     ]
    }
   ],
   "source": [
    "print(root.tag)"
   ]
  },
  {
   "cell_type": "code",
   "execution_count": 39,
   "metadata": {},
   "outputs": [
    {
     "name": "stdout",
     "output_type": "stream",
     "text": [
      "{'policy_url': 'http://about.officemax.com/privacy/', 'website_index': '088', 'website_category': 'Shopping', 'modification_date': 'May 16, 2013', 'website_url': 'officemax.com'}\n"
     ]
    }
   ],
   "source": [
    "print(root.attrib)"
   ]
  },
  {
   "cell_type": "code",
   "execution_count": 40,
   "metadata": {},
   "outputs": [],
   "source": [
    "subtexts = []\n",
    "for child in root:\n",
    "    # print(child.tag, child.attrib)\n",
    "    for c in child:\n",
    "        # print(c.tag, c.attrib)\n",
    "        # print(c.text)\n",
    "        subtexts.append(c.text)"
   ]
  },
  {
   "cell_type": "code",
   "execution_count": 41,
   "metadata": {},
   "outputs": [],
   "source": [
    "del(subtexts[0])"
   ]
  },
  {
   "cell_type": "code",
   "execution_count": 21,
   "metadata": {},
   "outputs": [],
   "source": [
    "# policy = ''.join(subtexts)"
   ]
  },
  {
   "cell_type": "code",
   "execution_count": 42,
   "metadata": {},
   "outputs": [],
   "source": [
    "# print(policy)"
   ]
  },
  {
   "cell_type": "code",
   "execution_count": null,
   "metadata": {},
   "outputs": [],
   "source": [
    "########################################################################"
   ]
  },
  {
   "cell_type": "code",
   "execution_count": 1,
   "metadata": {},
   "outputs": [],
   "source": [
    "# from lxml import etree"
   ]
  },
  {
   "cell_type": "code",
   "execution_count": 2,
   "metadata": {},
   "outputs": [],
   "source": [
    "# tree = etree.parse('data/policy.xml')"
   ]
  },
  {
   "cell_type": "code",
   "execution_count": 17,
   "metadata": {},
   "outputs": [],
   "source": [
    "# notags = etree.tostring(tree, encoding='utf8', method='text')\n",
    "# print(notags)"
   ]
  },
  {
   "cell_type": "code",
   "execution_count": 43,
   "metadata": {},
   "outputs": [],
   "source": [
    "from nltk.tokenize import sent_tokenize, word_tokenize\n",
    "from nltk.corpus import stopwords\n",
    "from collections import defaultdict\n",
    "from string import punctuation\n",
    "from heapq import nlargest"
   ]
  },
  {
   "cell_type": "code",
   "execution_count": 44,
   "metadata": {},
   "outputs": [],
   "source": [
    "class FrequencySummarizer:\n",
    "    def __init__(self, min_cut=0.1, max_cut=0.9):\n",
    "        self._min_cut = min_cut\n",
    "        self._max_cut = max_cut\n",
    "        self._stopwords = set(stopwords.words('english') + list(punctuation))\n",
    "        # print self\n",
    "        # print min_cut\n",
    "        # print max_cut\n",
    "\n",
    "    def _compute_frequencies(self, word_sent):\n",
    "        freq = defaultdict(int)\n",
    "        for sentence in word_sent:\n",
    "            for word in sentence:\n",
    "                if word not in self._stopwords:\n",
    "                    freq[word] += 1\n",
    "        max_freq = float(max(freq.values()))\n",
    "        for word in freq.keys():\n",
    "            freq[word] = freq[word] / max_freq\n",
    "            if freq[word] >= self._max_cut or freq[word] <= self._min_cut:\n",
    "                del freq[word]\n",
    "        return freq\n",
    "\n",
    "    def summarize(self, text, n):\n",
    "        sents = sent_tokenize(text)\n",
    "        assert n <= len(sents)\n",
    "        word_sent = [word_tokenize(s.lower()) for s in sents]\n",
    "        self._freq = self._compute_frequencies(word_sent)\n",
    "        rankings = defaultdict(int)\n",
    "        for i, sent in enumerate(word_sent):\n",
    "            for word in sent:\n",
    "                if word in self._freq:\n",
    "                    # print self._freq[word]\n",
    "                    # rankings = rankings + self._freq[word]\n",
    "                    rankings[i] += self._freq[word]\n",
    "                    # print rankings\n",
    "                    # sent_idx = nlargest(n, rankings[i], key=rankings.get)\n",
    "                    sent_idx = nlargest(n, rankings, key=rankings.get)\n",
    "                    return [sents[j] for j in sent_idx]"
   ]
  },
  {
   "cell_type": "code",
   "execution_count": 45,
   "metadata": {},
   "outputs": [],
   "source": [
    "fs = FrequencySummarizer()"
   ]
  },
  {
   "cell_type": "code",
   "execution_count": 34,
   "metadata": {},
   "outputs": [],
   "source": [
    "# summary = fs.summarize(policy, 100)"
   ]
  },
  {
   "cell_type": "code",
   "execution_count": 46,
   "metadata": {},
   "outputs": [],
   "source": [
    "# summary"
   ]
  },
  {
   "cell_type": "code",
   "execution_count": 53,
   "metadata": {},
   "outputs": [],
   "source": [
    "summaries = []"
   ]
  },
  {
   "cell_type": "code",
   "execution_count": 54,
   "metadata": {},
   "outputs": [
    {
     "name": "stdout",
     "output_type": "stream",
     "text": [
      "(0, u'Effective Date: This Privacy Policy was last revised on May 16, 2013\\nOfficeMax Incorporated (\\u201cOfficeMax,\\u201d \\u201cwe,\\u201d \\u201cus\\u201d or \\u201cour\\u201d) provides this privacy policy (\\u201cPrivacy Policy\\u201d) in order to make you aware of the privacy practices at our web sites that post this Privacy Policy (the \\u201cWeb Sites\\u201d), and of the choices you can make about the way your information is collected and used by OfficeMax.  This Privacy Policy only covers information collected at the Web Sites, and does not cover any information collected at any other web site or offline by OfficeMax (unless specifically stated).\\nNote, too, that there may be times where OfficeMax jointly collects your information with another party on a co-branded web site. In those cases, if this Privacy Policy is posted, it may only apply to how OfficeMax uses the information it collects through that co-branded web site, but the privacy policy of the other party may govern with regard to the use of technology or operation of the co-branded web site and its use of information collected on such co-branded web site.\\nThe areas covered in this Privacy Policy are as follows:\\nWhat information does OfficeMax collect?\\nWhat technologies does OfficeMax use?\\nHow is this information used by OfficeMax?\\nSweepstakes and contest information\\nSurvey information\\nContent you submit\\nAffiliate information\\nInformation from third parties\\nSend to a friend\\nHow is information shared with third parties?\\nThird parties providing services\\nThird party offers\\nSweepstakes, contests and other promotions\\nWeb Site analytics\\nCorporate change\\nLegal actions and law enforcement\\nEEOC/Affirmative action reporting\\nSecurity\\nLinks to third party web sites\\nConsent to transfer\\nA note for parents\\nCalifornia Privacy Rights\\nWhat should I know about ads?\\nHow might this Privacy Policy change in the future?\\nHow can I access or change my Personally Identifiable Information?\\nHow do I change my preferences about how my Personally Identifiable Information is shared?\\nHow do I contact OfficeMax?\\nWhat is the list of third parties that we work with that provide an ability to opt-out?')\n[u'Effective Date: This Privacy Policy was last revised on May 16, 2013\\nOfficeMax Incorporated (\\u201cOfficeMax,\\u201d \\u201cwe,\\u201d \\u201cus\\u201d or \\u201cour\\u201d) provides this privacy policy (\\u201cPrivacy Policy\\u201d) in order to make you aware of the privacy practices at our web sites that post this Privacy Policy (the \\u201cWeb Sites\\u201d), and of the choices you can make about the way your information is collected and used by OfficeMax.']\n(1, 'What information does OfficeMax collect?')\n"
     ]
    },
    {
     "ename": "AssertionError",
     "evalue": "",
     "traceback": [
      "\u001b[0;31m\u001b[0m",
      "\u001b[0;31mAssertionError\u001b[0mTraceback (most recent call last)",
      "\u001b[0;32m<ipython-input-54-6eeba80be286>\u001b[0m in \u001b[0;36m<module>\u001b[0;34m()\u001b[0m\n\u001b[1;32m      1\u001b[0m \u001b[0;32mfor\u001b[0m \u001b[0mi\u001b[0m\u001b[0;34m,\u001b[0m \u001b[0ms\u001b[0m \u001b[0;32min\u001b[0m \u001b[0menumerate\u001b[0m\u001b[0;34m(\u001b[0m\u001b[0msubtexts\u001b[0m\u001b[0;34m)\u001b[0m\u001b[0;34m:\u001b[0m\u001b[0;34m\u001b[0m\u001b[0m\n\u001b[1;32m      2\u001b[0m     \u001b[0;32mprint\u001b[0m\u001b[0;34m(\u001b[0m\u001b[0mi\u001b[0m\u001b[0;34m,\u001b[0m\u001b[0ms\u001b[0m\u001b[0;34m)\u001b[0m\u001b[0;34m\u001b[0m\u001b[0m\n\u001b[0;32m----> 3\u001b[0;31m     \u001b[0msummary\u001b[0m \u001b[0;34m=\u001b[0m \u001b[0mfs\u001b[0m\u001b[0;34m.\u001b[0m\u001b[0msummarize\u001b[0m\u001b[0;34m(\u001b[0m\u001b[0ms\u001b[0m\u001b[0;34m,\u001b[0m \u001b[0;36m5\u001b[0m\u001b[0;34m)\u001b[0m\u001b[0;34m\u001b[0m\u001b[0m\n\u001b[0m\u001b[1;32m      4\u001b[0m     \u001b[0;32mprint\u001b[0m\u001b[0;34m(\u001b[0m\u001b[0msummary\u001b[0m\u001b[0;34m)\u001b[0m\u001b[0;34m\u001b[0m\u001b[0m\n\u001b[1;32m      5\u001b[0m     \u001b[0msummaries\u001b[0m\u001b[0;34m.\u001b[0m\u001b[0mappend\u001b[0m\u001b[0;34m(\u001b[0m\u001b[0msummary\u001b[0m\u001b[0;34m)\u001b[0m\u001b[0;34m\u001b[0m\u001b[0m\n",
      "\u001b[0;32m<ipython-input-44-092eb0799573>\u001b[0m in \u001b[0;36msummarize\u001b[0;34m(self, text, n)\u001b[0m\n\u001b[1;32m     23\u001b[0m     \u001b[0;32mdef\u001b[0m \u001b[0msummarize\u001b[0m\u001b[0;34m(\u001b[0m\u001b[0mself\u001b[0m\u001b[0;34m,\u001b[0m \u001b[0mtext\u001b[0m\u001b[0;34m,\u001b[0m \u001b[0mn\u001b[0m\u001b[0;34m)\u001b[0m\u001b[0;34m:\u001b[0m\u001b[0;34m\u001b[0m\u001b[0m\n\u001b[1;32m     24\u001b[0m         \u001b[0msents\u001b[0m \u001b[0;34m=\u001b[0m \u001b[0msent_tokenize\u001b[0m\u001b[0;34m(\u001b[0m\u001b[0mtext\u001b[0m\u001b[0;34m)\u001b[0m\u001b[0;34m\u001b[0m\u001b[0m\n\u001b[0;32m---> 25\u001b[0;31m         \u001b[0;32massert\u001b[0m \u001b[0mn\u001b[0m \u001b[0;34m<=\u001b[0m \u001b[0mlen\u001b[0m\u001b[0;34m(\u001b[0m\u001b[0msents\u001b[0m\u001b[0;34m)\u001b[0m\u001b[0;34m\u001b[0m\u001b[0m\n\u001b[0m\u001b[1;32m     26\u001b[0m         \u001b[0mword_sent\u001b[0m \u001b[0;34m=\u001b[0m \u001b[0;34m[\u001b[0m\u001b[0mword_tokenize\u001b[0m\u001b[0;34m(\u001b[0m\u001b[0ms\u001b[0m\u001b[0;34m.\u001b[0m\u001b[0mlower\u001b[0m\u001b[0;34m(\u001b[0m\u001b[0;34m)\u001b[0m\u001b[0;34m)\u001b[0m \u001b[0;32mfor\u001b[0m \u001b[0ms\u001b[0m \u001b[0;32min\u001b[0m \u001b[0msents\u001b[0m\u001b[0;34m]\u001b[0m\u001b[0;34m\u001b[0m\u001b[0m\n\u001b[1;32m     27\u001b[0m         \u001b[0mself\u001b[0m\u001b[0;34m.\u001b[0m\u001b[0m_freq\u001b[0m \u001b[0;34m=\u001b[0m \u001b[0mself\u001b[0m\u001b[0;34m.\u001b[0m\u001b[0m_compute_frequencies\u001b[0m\u001b[0;34m(\u001b[0m\u001b[0mword_sent\u001b[0m\u001b[0;34m)\u001b[0m\u001b[0;34m\u001b[0m\u001b[0m\n",
      "\u001b[0;31mAssertionError\u001b[0m: "
     ],
     "output_type": "error"
    }
   ],
   "source": [
    "for i, s in enumerate(subtexts):\n",
    "    print(i,s)\n",
    "    summary = fs.summarize(s, 5)\n",
    "    print(summary)\n",
    "    summaries.append(summary)"
   ]
  },
  {
   "cell_type": "code",
   "execution_count": 55,
   "metadata": {},
   "outputs": [
    {
     "name": "stdout",
     "output_type": "stream",
     "text": [
      "[[u'Effective Date: This Privacy Policy was last revised on May 16, 2013\\nOfficeMax Incorporated (\\u201cOfficeMax,\\u201d \\u201cwe,\\u201d \\u201cus\\u201d or \\u201cour\\u201d) provides this privacy policy (\\u201cPrivacy Policy\\u201d) in order to make you aware of the privacy practices at our web sites that post this Privacy Policy (the \\u201cWeb Sites\\u201d), and of the choices you can make about the way your information is collected and used by OfficeMax.']]\n"
     ]
    }
   ],
   "source": [
    "print(summaries)"
   ]
  }
 ],
 "metadata": {
  "kernelspec": {
   "display_name": "Python 2",
   "language": "python",
   "name": "python2"
  },
  "language_info": {
   "codemirror_mode": {
    "name": "ipython",
    "version": 2.0
   },
   "file_extension": ".py",
   "mimetype": "text/x-python",
   "name": "python",
   "nbconvert_exporter": "python",
   "pygments_lexer": "ipython2",
   "version": "2.7.6"
  }
 },
 "nbformat": 4,
 "nbformat_minor": 0
}